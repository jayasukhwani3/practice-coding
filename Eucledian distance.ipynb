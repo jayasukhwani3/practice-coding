{
 "cells": [
  {
   "cell_type": "code",
   "execution_count": 1,
   "id": "85bde397",
   "metadata": {},
   "outputs": [
    {
     "name": "stdout",
     "output_type": "stream",
     "text": [
      "x1: 4\n",
      "y1: 5\n",
      "x2: 6\n",
      "y2: 8\n",
      "====================================================================================================\n",
      "Eucledian distance for given co-ordinate will be 3.61\n"
     ]
    }
   ],
   "source": [
    "import math\n",
    "\n",
    "x1= float(input(\"x1: \"))\n",
    "y1= float(input(\"y1: \"))\n",
    "x2= float(input(\"x2: \"))\n",
    "y2= float(input(\"y2: \"))\n",
    "\n",
    "x= [x1, y1]\n",
    "y= [x2, y2]\n",
    "\n",
    "distance=math.dist(x,y)\n",
    "\n",
    "print(\"=\" * 100)\n",
    "\n",
    "print(\"Eucledian distance for given co-ordinate will be\" ,round(math.dist(x,y), 2))"
   ]
  },
  {
   "cell_type": "code",
   "execution_count": null,
   "id": "215654af",
   "metadata": {},
   "outputs": [],
   "source": []
  },
  {
   "cell_type": "code",
   "execution_count": null,
   "id": "1a423707",
   "metadata": {},
   "outputs": [],
   "source": []
  },
  {
   "cell_type": "code",
   "execution_count": null,
   "id": "6df09d43",
   "metadata": {},
   "outputs": [],
   "source": []
  }
 ],
 "metadata": {
  "kernelspec": {
   "display_name": "Python 3 (ipykernel)",
   "language": "python",
   "name": "python3"
  },
  "language_info": {
   "codemirror_mode": {
    "name": "ipython",
    "version": 3
   },
   "file_extension": ".py",
   "mimetype": "text/x-python",
   "name": "python",
   "nbconvert_exporter": "python",
   "pygments_lexer": "ipython3",
   "version": "3.11.5"
  }
 },
 "nbformat": 4,
 "nbformat_minor": 5
}
