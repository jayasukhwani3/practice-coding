{
 "cells": [
  {
   "cell_type": "code",
   "execution_count": 1,
   "id": "c72b7e35",
   "metadata": {},
   "outputs": [
    {
     "name": "stdout",
     "output_type": "stream",
     "text": [
      "Principle amount: 45000\n",
      "Rate of interest: 7.5\n",
      "Time period: 5\n",
      "16875.0\n",
      "Total due amount will need to pay will be  61875.0\n"
     ]
    }
   ],
   "source": [
    "P= float(input(\"Principle amount: \"))\n",
    "R= float(input(\"Rate of interest: \"))\n",
    "T= int(input(\"Time period: \"))\n",
    "\n",
    "Simple_interest= (P*R*T)/100\n",
    "\n",
    "print(Simple_interest)\n",
    "\n",
    "total_due= P + Simple_interest\n",
    "\n",
    "print(\"Total due amount will need to pay will be \",total_due)"
   ]
  },
  {
   "cell_type": "code",
   "execution_count": null,
   "id": "fa970f41",
   "metadata": {},
   "outputs": [],
   "source": []
  }
 ],
 "metadata": {
  "kernelspec": {
   "display_name": "Python 3 (ipykernel)",
   "language": "python",
   "name": "python3"
  },
  "language_info": {
   "codemirror_mode": {
    "name": "ipython",
    "version": 3
   },
   "file_extension": ".py",
   "mimetype": "text/x-python",
   "name": "python",
   "nbconvert_exporter": "python",
   "pygments_lexer": "ipython3",
   "version": "3.11.5"
  }
 },
 "nbformat": 4,
 "nbformat_minor": 5
}
