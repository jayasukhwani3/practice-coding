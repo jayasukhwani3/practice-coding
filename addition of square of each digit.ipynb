{
 "cells": [
  {
   "cell_type": "code",
   "execution_count": 1,
   "id": "5c2a2ed1",
   "metadata": {},
   "outputs": [
    {
     "name": "stdout",
     "output_type": "stream",
     "text": [
      "Enter the three digit number: 241\n",
      "21\n"
     ]
    }
   ],
   "source": [
    "n=int(input(\"Enter the three digit number: \"))\n",
    "\n",
    "a=n%10\n",
    "\n",
    "num=n//10\n",
    "\n",
    "b=num%10\n",
    "\n",
    "c=n//100\n",
    "\n",
    "output_values=(a**2) + (b**2) + (c**2)\n",
    "\n",
    "print(output_values)"
   ]
  },
  {
   "cell_type": "code",
   "execution_count": null,
   "id": "a70f684c",
   "metadata": {},
   "outputs": [],
   "source": []
  }
 ],
 "metadata": {
  "kernelspec": {
   "display_name": "Python 3 (ipykernel)",
   "language": "python",
   "name": "python3"
  },
  "language_info": {
   "codemirror_mode": {
    "name": "ipython",
    "version": 3
   },
   "file_extension": ".py",
   "mimetype": "text/x-python",
   "name": "python",
   "nbconvert_exporter": "python",
   "pygments_lexer": "ipython3",
   "version": "3.11.5"
  }
 },
 "nbformat": 4,
 "nbformat_minor": 5
}
