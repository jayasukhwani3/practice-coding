{
 "cells": [
  {
   "cell_type": "code",
   "execution_count": 7,
   "id": "04d7619b",
   "metadata": {},
   "outputs": [
    {
     "name": "stdout",
     "output_type": "stream",
     "text": [
      "Enter the first number 5\n",
      "Enter the second number 12\n",
      " sum =  17\n"
     ]
    }
   ],
   "source": [
    "a=int(input(\"Enter the first number \"))\n",
    "b=int(input(\"Enter the second number \"))\n",
    "c= a + b\n",
    "print(\" sum = \",c)"
   ]
  },
  {
   "cell_type": "code",
   "execution_count": null,
   "id": "028659a9",
   "metadata": {},
   "outputs": [],
   "source": [
    "a=int(input(\"Enter the number to reverse its digits: \"))\n",
    "reverse_number= ''.join(str(a)[::-1])\n",
    "print(\"The reversed number is: \", reverse_number)"
   ]
  },
  {
   "cell_type": "code",
   "execution_count": null,
   "id": "8e7e6d3b",
   "metadata": {},
   "outputs": [],
   "source": [
    "a=int(input(\"Enter the number to reverse its digits: \"))\n",
    "reverse_number= ''.join(str(a)[::-1])\n",
    "print(\"The reversed number is: \", reverse_number)"
   ]
  },
  {
   "cell_type": "code",
   "execution_count": null,
   "id": "0c74665b",
   "metadata": {},
   "outputs": [],
   "source": []
  },
  {
   "cell_type": "code",
   "execution_count": null,
   "id": "c15afd62",
   "metadata": {},
   "outputs": [],
   "source": []
  }
 ],
 "metadata": {
  "kernelspec": {
   "display_name": "Python 3 (ipykernel)",
   "language": "python",
   "name": "python3"
  },
  "language_info": {
   "codemirror_mode": {
    "name": "ipython",
    "version": 3
   },
   "file_extension": ".py",
   "mimetype": "text/x-python",
   "name": "python",
   "nbconvert_exporter": "python",
   "pygments_lexer": "ipython3",
   "version": "3.11.5"
  }
 },
 "nbformat": 4,
 "nbformat_minor": 5
}
