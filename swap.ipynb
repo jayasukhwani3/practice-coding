{
 "cells": [
  {
   "cell_type": "code",
   "execution_count": 1,
   "id": "83e1f40b",
   "metadata": {},
   "outputs": [
    {
     "name": "stdout",
     "output_type": "stream",
     "text": [
      "Enter the first number 5\n",
      "Enter the second number 8\n",
      "5 8\n",
      "8 5\n"
     ]
    }
   ],
   "source": [
    "#swapping the numbers without introducing third variable\n",
    "x=int(input(\"Enter the first number \"))\n",
    "y=int(input(\"Enter the second number \"))\n",
    "\n",
    "print(x,y)\n",
    "\n",
    "x=x+y\n",
    "y=x-y\n",
    "x=x-y\n",
    "\n",
    "print(x,y)"
   ]
  },
  {
   "cell_type": "code",
   "execution_count": null,
   "id": "26edf93d",
   "metadata": {},
   "outputs": [],
   "source": []
  }
 ],
 "metadata": {
  "kernelspec": {
   "display_name": "Python 3 (ipykernel)",
   "language": "python",
   "name": "python3"
  },
  "language_info": {
   "codemirror_mode": {
    "name": "ipython",
    "version": 3
   },
   "file_extension": ".py",
   "mimetype": "text/x-python",
   "name": "python",
   "nbconvert_exporter": "python",
   "pygments_lexer": "ipython3",
   "version": "3.11.5"
  }
 },
 "nbformat": 4,
 "nbformat_minor": 5
}
