{
 "cells": [
  {
   "cell_type": "code",
   "execution_count": 2,
   "id": "23d3daa9",
   "metadata": {},
   "outputs": [
    {
     "name": "stdout",
     "output_type": "stream",
     "text": [
      "Enter the number 56\n",
      "The number is not divisible by 3 and 6\n"
     ]
    }
   ],
   "source": [
    "a=int(input(\"Enter the number \"))\n",
    "\n",
    "if a%3==0 and a%6==0:\n",
    "    print(\"The number is divisible by 3 and 6\")\n",
    "else:\n",
    "    print(\"The number is not divisible by 3 and 6\")"
   ]
  },
  {
   "cell_type": "code",
   "execution_count": null,
   "id": "562b4efa",
   "metadata": {},
   "outputs": [],
   "source": [
    "\n"
   ]
  }
 ],
 "metadata": {
  "kernelspec": {
   "display_name": "Python 3 (ipykernel)",
   "language": "python",
   "name": "python3"
  },
  "language_info": {
   "codemirror_mode": {
    "name": "ipython",
    "version": 3
   },
   "file_extension": ".py",
   "mimetype": "text/x-python",
   "name": "python",
   "nbconvert_exporter": "python",
   "pygments_lexer": "ipython3",
   "version": "3.11.5"
  }
 },
 "nbformat": 4,
 "nbformat_minor": 5
}
